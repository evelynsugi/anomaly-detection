{
 "cells": [
  {
   "cell_type": "markdown",
   "id": "ea178da4-b356-4614-889b-40f953970ed1",
   "metadata": {},
   "source": [
    "# DATA 589 - Project"
   ]
  },
  {
   "cell_type": "markdown",
   "id": "7282a0ef-adeb-4956-bdf4-0a2ba6205c6c",
   "metadata": {},
   "source": [
    "## Exploratory Data Analysis (EDA) On The Parsed Logs Dataset"
   ]
  },
  {
   "cell_type": "markdown",
   "id": "c39e67d1-4bed-445e-8d73-439ea456c98b",
   "metadata": {},
   "source": [
    "### 1. Describe your dataset"
   ]
  },
  {
   "cell_type": "markdown",
   "id": "3cb333f4-873c-4050-a52f-0297c48d1361",
   "metadata": {},
   "source": [
    "- This dataset was obtained from Loghub (https://github.com/logpai/loghub), which holds a collection of system logs that are freely accessible for research purposes.\n",
    "\n",
    "- The HDFS_1 logs was originally produced for the following research paper: \"Detecting Large-Scale System Problems by Mining Console Logs\" by Wei Xu, Ling Huang, Armando Fox, David Patterson, and Michael I. Jordan.\n",
    "\n",
    "- The researchers above collected the HDFS logs from a Hadoop cluster running on over 200 EC2 nodes, yielding 24 million lines of logs.\n",
    "\n",
    "- The raw logs are parsed using the Drain parser from the logparser library (https://github.com/logpai/logparser).\n",
    "\n",
    "- The parsed dataset consists of 10 columns and 11175629 rows which are described below: \n",
    "\n",
    "    1. `LineId`: ID for each line of logs\n",
    "    2. `Date`: The date that the logs were created\n",
    "    3. `Time`: The time that the logs were created\n",
    "    4. `Pid`: Process ID\n",
    "    5. `Level`: The level of the log (INFO or WARN)\n",
    "    6. `Component`: The component of the log (e.g. dfs.DataNode\\$PacketResponder)\n",
    "    7. `Content`: The content of the log \n",
    "    8. `EventId`: Event ID\n",
    "    9. `EventTemplate`: The template for the events\n",
    "    10. `ParameterList`: List of parameters for that particular log   \n",
    "    \n",
    "    \n",
    "- The parsed logs data have/don't have null values, and the data types for each column are described below:\n",
    "\n",
    "    1. `LineId`: int\n",
    "    2. `Date`: int\n",
    "    3. `Time`: int\n",
    "    4. `Pid`: int\n",
    "    5. `Level`: object\n",
    "    6. `Component`: object\n",
    "    7. `Content`: object\n",
    "    8. `EventId`: object\n",
    "    9. `EventTemplate`: object\n",
    "    10. `ParameterList`: object\n",
    "    \n",
    "    \n",
    "- Since some of the datatypes are still not proper, we will parse it to the appropriate data types in the following sections.\n",
    "\n",
    "- The was collected from 2008-11-09 20:36:15 to 2008-11-11 10::, totaling 38.7 hours of logs data."
   ]
  },
  {
   "cell_type": "markdown",
   "id": "b87b158b-ff6e-4516-baf0-064d1c6c8618",
   "metadata": {},
   "source": [
    "### 2. Load the dataset"
   ]
  },
  {
   "cell_type": "code",
   "execution_count": 3,
   "id": "8d9f995f-8f9e-4cdd-8315-aba9aa716832",
   "metadata": {},
   "outputs": [],
   "source": [
    "import pandas as pd\n",
    "import matplotlib.pyplot as plt"
   ]
  },
  {
   "cell_type": "code",
   "execution_count": null,
   "id": "039c1dbb-218f-44ab-89d8-7fc94492c45f",
   "metadata": {},
   "outputs": [],
   "source": [
    "HDFS_parsed = pd.read_csv('parse/parsed_data/HDFS.log_structured.csv')\n",
    "HDFS_label = pd.read_csv('parse/raw_data/anomaly_label.csv')"
   ]
  },
  {
   "cell_type": "markdown",
   "id": "5a802472-3da4-4475-8f57-667eae90a898",
   "metadata": {},
   "source": [
    "### 3. Explore your dataset"
   ]
  },
  {
   "cell_type": "markdown",
   "id": "991b6fa8-756e-49cc-b211-1d94b307bb20",
   "metadata": {},
   "source": [
    "As described in section 1, the dataset consist of 11175629 rows and 10 columns."
   ]
  },
  {
   "cell_type": "code",
   "execution_count": 3,
   "id": "fcaed7b0-7a1e-437f-aee9-f38bed2caccc",
   "metadata": {},
   "outputs": [
    {
     "data": {
      "text/plain": [
       "(11175629, 10)"
      ]
     },
     "execution_count": 3,
     "metadata": {},
     "output_type": "execute_result"
    }
   ],
   "source": [
    "HDFS_parsed.shape"
   ]
  },
  {
   "cell_type": "markdown",
   "id": "7cb67b8e-edfe-43e8-90d6-8a600c20af39",
   "metadata": {},
   "source": [
    "To get started, let's view the first few rows of the data."
   ]
  },
  {
   "cell_type": "code",
   "execution_count": 4,
   "id": "70690961-f437-44c8-9a8f-dfc317d95c0a",
   "metadata": {},
   "outputs": [
    {
     "data": {
      "text/html": [
       "<div>\n",
       "<style scoped>\n",
       "    .dataframe tbody tr th:only-of-type {\n",
       "        vertical-align: middle;\n",
       "    }\n",
       "\n",
       "    .dataframe tbody tr th {\n",
       "        vertical-align: top;\n",
       "    }\n",
       "\n",
       "    .dataframe thead th {\n",
       "        text-align: right;\n",
       "    }\n",
       "</style>\n",
       "<table border=\"1\" class=\"dataframe\">\n",
       "  <thead>\n",
       "    <tr style=\"text-align: right;\">\n",
       "      <th></th>\n",
       "      <th>LineId</th>\n",
       "      <th>Date</th>\n",
       "      <th>Time</th>\n",
       "      <th>Pid</th>\n",
       "      <th>Level</th>\n",
       "      <th>Component</th>\n",
       "      <th>Content</th>\n",
       "      <th>EventId</th>\n",
       "      <th>EventTemplate</th>\n",
       "      <th>ParameterList</th>\n",
       "    </tr>\n",
       "  </thead>\n",
       "  <tbody>\n",
       "    <tr>\n",
       "      <th>0</th>\n",
       "      <td>1</td>\n",
       "      <td>81109</td>\n",
       "      <td>203518</td>\n",
       "      <td>143</td>\n",
       "      <td>INFO</td>\n",
       "      <td>dfs.DataNode$DataXceiver</td>\n",
       "      <td>Receiving block blk_-1608999687919862906 src: ...</td>\n",
       "      <td>09a53393</td>\n",
       "      <td>Receiving block &lt;*&gt; src: &lt;*&gt; dest: &lt;*&gt;</td>\n",
       "      <td>['blk_-1608999687919862906', '/10.250.19.102:5...</td>\n",
       "    </tr>\n",
       "    <tr>\n",
       "      <th>1</th>\n",
       "      <td>2</td>\n",
       "      <td>81109</td>\n",
       "      <td>203518</td>\n",
       "      <td>35</td>\n",
       "      <td>INFO</td>\n",
       "      <td>dfs.FSNamesystem</td>\n",
       "      <td>BLOCK* NameSystem.allocateBlock: /mnt/hadoop/m...</td>\n",
       "      <td>3d91fa85</td>\n",
       "      <td>BLOCK* NameSystem.allocateBlock: &lt;*&gt; &lt;*&gt;</td>\n",
       "      <td>['/mnt/hadoop/mapred/system/job_200811092030_0...</td>\n",
       "    </tr>\n",
       "    <tr>\n",
       "      <th>2</th>\n",
       "      <td>3</td>\n",
       "      <td>81109</td>\n",
       "      <td>203519</td>\n",
       "      <td>143</td>\n",
       "      <td>INFO</td>\n",
       "      <td>dfs.DataNode$DataXceiver</td>\n",
       "      <td>Receiving block blk_-1608999687919862906 src: ...</td>\n",
       "      <td>09a53393</td>\n",
       "      <td>Receiving block &lt;*&gt; src: &lt;*&gt; dest: &lt;*&gt;</td>\n",
       "      <td>['blk_-1608999687919862906', '/10.250.10.6:405...</td>\n",
       "    </tr>\n",
       "    <tr>\n",
       "      <th>3</th>\n",
       "      <td>4</td>\n",
       "      <td>81109</td>\n",
       "      <td>203519</td>\n",
       "      <td>145</td>\n",
       "      <td>INFO</td>\n",
       "      <td>dfs.DataNode$DataXceiver</td>\n",
       "      <td>Receiving block blk_-1608999687919862906 src: ...</td>\n",
       "      <td>09a53393</td>\n",
       "      <td>Receiving block &lt;*&gt; src: &lt;*&gt; dest: &lt;*&gt;</td>\n",
       "      <td>['blk_-1608999687919862906', '/10.250.14.224:4...</td>\n",
       "    </tr>\n",
       "    <tr>\n",
       "      <th>4</th>\n",
       "      <td>5</td>\n",
       "      <td>81109</td>\n",
       "      <td>203519</td>\n",
       "      <td>145</td>\n",
       "      <td>INFO</td>\n",
       "      <td>dfs.DataNode$PacketResponder</td>\n",
       "      <td>PacketResponder 1 for block blk_-1608999687919...</td>\n",
       "      <td>d38aa58d</td>\n",
       "      <td>PacketResponder &lt;*&gt; for block &lt;*&gt; &lt;*&gt;</td>\n",
       "      <td>['1', 'blk_-1608999687919862906 terminating']</td>\n",
       "    </tr>\n",
       "  </tbody>\n",
       "</table>\n",
       "</div>"
      ],
      "text/plain": [
       "   LineId   Date    Time  Pid Level                     Component  \\\n",
       "0       1  81109  203518  143  INFO      dfs.DataNode$DataXceiver   \n",
       "1       2  81109  203518   35  INFO              dfs.FSNamesystem   \n",
       "2       3  81109  203519  143  INFO      dfs.DataNode$DataXceiver   \n",
       "3       4  81109  203519  145  INFO      dfs.DataNode$DataXceiver   \n",
       "4       5  81109  203519  145  INFO  dfs.DataNode$PacketResponder   \n",
       "\n",
       "                                             Content   EventId  \\\n",
       "0  Receiving block blk_-1608999687919862906 src: ...  09a53393   \n",
       "1  BLOCK* NameSystem.allocateBlock: /mnt/hadoop/m...  3d91fa85   \n",
       "2  Receiving block blk_-1608999687919862906 src: ...  09a53393   \n",
       "3  Receiving block blk_-1608999687919862906 src: ...  09a53393   \n",
       "4  PacketResponder 1 for block blk_-1608999687919...  d38aa58d   \n",
       "\n",
       "                              EventTemplate  \\\n",
       "0    Receiving block <*> src: <*> dest: <*>   \n",
       "1  BLOCK* NameSystem.allocateBlock: <*> <*>   \n",
       "2    Receiving block <*> src: <*> dest: <*>   \n",
       "3    Receiving block <*> src: <*> dest: <*>   \n",
       "4     PacketResponder <*> for block <*> <*>   \n",
       "\n",
       "                                       ParameterList  \n",
       "0  ['blk_-1608999687919862906', '/10.250.19.102:5...  \n",
       "1  ['/mnt/hadoop/mapred/system/job_200811092030_0...  \n",
       "2  ['blk_-1608999687919862906', '/10.250.10.6:405...  \n",
       "3  ['blk_-1608999687919862906', '/10.250.14.224:4...  \n",
       "4      ['1', 'blk_-1608999687919862906 terminating']  "
      ]
     },
     "execution_count": 4,
     "metadata": {},
     "output_type": "execute_result"
    }
   ],
   "source": [
    "HDFS_parsed.head()"
   ]
  },
  {
   "cell_type": "markdown",
   "id": "9810e743-0d39-4f98-aac6-decca422f562",
   "metadata": {},
   "source": [
    "Next, we want to see the data types of each column using .info(). Some data types are not appropriate for the columns hence we will change it to the appropriate data types if necessary."
   ]
  },
  {
   "cell_type": "code",
   "execution_count": 5,
   "id": "79967318-8cbe-4ce6-b69e-b148b59d9290",
   "metadata": {},
   "outputs": [
    {
     "name": "stdout",
     "output_type": "stream",
     "text": [
      "<class 'pandas.core.frame.DataFrame'>\n",
      "RangeIndex: 11175629 entries, 0 to 11175628\n",
      "Data columns (total 10 columns):\n",
      " #   Column         Dtype \n",
      "---  ------         ----- \n",
      " 0   LineId         int64 \n",
      " 1   Date           int64 \n",
      " 2   Time           int64 \n",
      " 3   Pid            int64 \n",
      " 4   Level          object\n",
      " 5   Component      object\n",
      " 6   Content        object\n",
      " 7   EventId        object\n",
      " 8   EventTemplate  object\n",
      " 9   ParameterList  object\n",
      "dtypes: int64(4), object(6)\n",
      "memory usage: 852.6+ MB\n"
     ]
    }
   ],
   "source": [
    "HDFS_parsed.info()"
   ]
  },
  {
   "cell_type": "markdown",
   "id": "9373409b-b0c6-4d27-9509-5bb02ba7308d",
   "metadata": {},
   "source": [
    "Based on the check below, there is no missing values in the data."
   ]
  },
  {
   "cell_type": "code",
   "execution_count": 6,
   "id": "19ce96f8-9d9b-43e0-b0f1-f84794072a64",
   "metadata": {},
   "outputs": [
    {
     "data": {
      "text/plain": [
       "LineId           0\n",
       "Date             0\n",
       "Time             0\n",
       "Pid              0\n",
       "Level            0\n",
       "Component        0\n",
       "Content          0\n",
       "EventId          0\n",
       "EventTemplate    0\n",
       "ParameterList    0\n",
       "dtype: int64"
      ]
     },
     "execution_count": 6,
     "metadata": {},
     "output_type": "execute_result"
    }
   ],
   "source": [
    "HDFS_parsed.isnull().sum()"
   ]
  },
  {
   "cell_type": "markdown",
   "id": "ed62e112-6f74-402c-ab67-396902b45596",
   "metadata": {},
   "source": [
    "The .describe() function might not be useful here as we haven't convert the data types for the date and time to a datetime data type."
   ]
  },
  {
   "cell_type": "code",
   "execution_count": 7,
   "id": "0981e20b-9f70-4540-b3f6-bfde4170d22c",
   "metadata": {},
   "outputs": [
    {
     "data": {
      "text/html": [
       "<div>\n",
       "<style scoped>\n",
       "    .dataframe tbody tr th:only-of-type {\n",
       "        vertical-align: middle;\n",
       "    }\n",
       "\n",
       "    .dataframe tbody tr th {\n",
       "        vertical-align: top;\n",
       "    }\n",
       "\n",
       "    .dataframe thead th {\n",
       "        text-align: right;\n",
       "    }\n",
       "</style>\n",
       "<table border=\"1\" class=\"dataframe\">\n",
       "  <thead>\n",
       "    <tr style=\"text-align: right;\">\n",
       "      <th></th>\n",
       "      <th>LineId</th>\n",
       "      <th>Date</th>\n",
       "      <th>Time</th>\n",
       "      <th>Pid</th>\n",
       "    </tr>\n",
       "  </thead>\n",
       "  <tbody>\n",
       "    <tr>\n",
       "      <th>count</th>\n",
       "      <td>1.117563e+07</td>\n",
       "      <td>1.117563e+07</td>\n",
       "      <td>1.117563e+07</td>\n",
       "      <td>1.117563e+07</td>\n",
       "    </tr>\n",
       "    <tr>\n",
       "      <th>mean</th>\n",
       "      <td>5.587815e+06</td>\n",
       "      <td>8.111040e+04</td>\n",
       "      <td>1.075910e+05</td>\n",
       "      <td>8.058798e+03</td>\n",
       "    </tr>\n",
       "    <tr>\n",
       "      <th>std</th>\n",
       "      <td>3.226126e+06</td>\n",
       "      <td>6.305535e-01</td>\n",
       "      <td>6.833246e+04</td>\n",
       "      <td>9.371111e+03</td>\n",
       "    </tr>\n",
       "    <tr>\n",
       "      <th>min</th>\n",
       "      <td>1.000000e+00</td>\n",
       "      <td>8.110900e+04</td>\n",
       "      <td>0.000000e+00</td>\n",
       "      <td>1.300000e+01</td>\n",
       "    </tr>\n",
       "    <tr>\n",
       "      <th>25%</th>\n",
       "      <td>2.793908e+06</td>\n",
       "      <td>8.111000e+04</td>\n",
       "      <td>5.350100e+04</td>\n",
       "      <td>2.800000e+01</td>\n",
       "    </tr>\n",
       "    <tr>\n",
       "      <th>50%</th>\n",
       "      <td>5.587815e+06</td>\n",
       "      <td>8.111000e+04</td>\n",
       "      <td>9.433500e+04</td>\n",
       "      <td>2.861000e+03</td>\n",
       "    </tr>\n",
       "    <tr>\n",
       "      <th>75%</th>\n",
       "      <td>8.381722e+06</td>\n",
       "      <td>8.111100e+04</td>\n",
       "      <td>1.459520e+05</td>\n",
       "      <td>1.642500e+04</td>\n",
       "    </tr>\n",
       "    <tr>\n",
       "      <th>max</th>\n",
       "      <td>1.117563e+07</td>\n",
       "      <td>8.111100e+04</td>\n",
       "      <td>2.359590e+05</td>\n",
       "      <td>2.789400e+04</td>\n",
       "    </tr>\n",
       "  </tbody>\n",
       "</table>\n",
       "</div>"
      ],
      "text/plain": [
       "             LineId          Date          Time           Pid\n",
       "count  1.117563e+07  1.117563e+07  1.117563e+07  1.117563e+07\n",
       "mean   5.587815e+06  8.111040e+04  1.075910e+05  8.058798e+03\n",
       "std    3.226126e+06  6.305535e-01  6.833246e+04  9.371111e+03\n",
       "min    1.000000e+00  8.110900e+04  0.000000e+00  1.300000e+01\n",
       "25%    2.793908e+06  8.111000e+04  5.350100e+04  2.800000e+01\n",
       "50%    5.587815e+06  8.111000e+04  9.433500e+04  2.861000e+03\n",
       "75%    8.381722e+06  8.111100e+04  1.459520e+05  1.642500e+04\n",
       "max    1.117563e+07  8.111100e+04  2.359590e+05  2.789400e+04"
      ]
     },
     "execution_count": 7,
     "metadata": {},
     "output_type": "execute_result"
    }
   ],
   "source": [
    "HDFS_parsed.describe()"
   ]
  },
  {
   "cell_type": "code",
   "execution_count": 8,
   "id": "5302fc61-6c46-408f-81c8-6fc22c32d245",
   "metadata": {},
   "outputs": [
    {
     "data": {
      "text/plain": [
       "1           1\n",
       "7450423     1\n",
       "7450415     1\n",
       "7450416     1\n",
       "7450417     1\n",
       "           ..\n",
       "3725213     1\n",
       "3725214     1\n",
       "3725215     1\n",
       "3725216     1\n",
       "11175629    1\n",
       "Name: LineId, Length: 11175629, dtype: int64"
      ]
     },
     "execution_count": 8,
     "metadata": {},
     "output_type": "execute_result"
    }
   ],
   "source": [
    "HDFS_parsed.LineId.value_counts()"
   ]
  },
  {
   "cell_type": "code",
   "execution_count": 9,
   "id": "d0b5f933-f228-4e34-aa27-5779ee2a275a",
   "metadata": {},
   "outputs": [
    {
     "data": {
      "text/plain": [
       "81111    5362174\n",
       "81110    4934076\n",
       "81109     879379\n",
       "Name: Date, dtype: int64"
      ]
     },
     "execution_count": 9,
     "metadata": {},
     "output_type": "execute_result"
    }
   ],
   "source": [
    "HDFS_parsed.Date.value_counts()"
   ]
  },
  {
   "cell_type": "code",
   "execution_count": 10,
   "id": "25b805b1-4d0f-4963-8df7-57d2069b7579",
   "metadata": {},
   "outputs": [
    {
     "data": {
      "text/plain": [
       "75622     5175\n",
       "110439    5036\n",
       "75635     5008\n",
       "110430    4985\n",
       "44322     4979\n",
       "          ... \n",
       "154920       1\n",
       "154913       1\n",
       "154907       1\n",
       "154905       1\n",
       "153927       1\n",
       "Name: Time, Length: 85053, dtype: int64"
      ]
     },
     "execution_count": 10,
     "metadata": {},
     "output_type": "execute_result"
    }
   ],
   "source": [
    "HDFS_parsed.Time.value_counts()"
   ]
  },
  {
   "cell_type": "code",
   "execution_count": 11,
   "id": "5868075e-752e-4726-9f56-cc6945edea9a",
   "metadata": {},
   "outputs": [
    {
     "data": {
      "text/plain": [
       "19       1288017\n",
       "28        539758\n",
       "27        444086\n",
       "26        441387\n",
       "30        437971\n",
       "          ...   \n",
       "27861          1\n",
       "27863          1\n",
       "115            1\n",
       "27865          1\n",
       "27867          1\n",
       "Name: Pid, Length: 27799, dtype: int64"
      ]
     },
     "execution_count": 11,
     "metadata": {},
     "output_type": "execute_result"
    }
   ],
   "source": [
    "HDFS_parsed.Pid.value_counts()"
   ]
  },
  {
   "cell_type": "code",
   "execution_count": 12,
   "id": "f42bd279-75dd-461a-b81a-05fc0f0dd3c6",
   "metadata": {},
   "outputs": [
    {
     "data": {
      "text/plain": [
       "INFO    10812836\n",
       "WARN      362793\n",
       "Name: Level, dtype: int64"
      ]
     },
     "execution_count": 12,
     "metadata": {},
     "output_type": "execute_result"
    }
   ],
   "source": [
    "HDFS_parsed.Level.value_counts()"
   ]
  },
  {
   "cell_type": "code",
   "execution_count": 13,
   "id": "c87fe5a5-c155-4bda-8976-e0d022d9af3a",
   "metadata": {},
   "outputs": [
    {
     "data": {
      "text/plain": [
       "dfs.FSNamesystem                                          3700245\n",
       "dfs.DataNode$PacketResponder                              3413350\n",
       "dfs.DataNode$DataXceiver                                  2518678\n",
       "dfs.FSDataset                                             1407597\n",
       "dfs.DataBlockScanner                                       120046\n",
       "dfs.DataNode                                                 7002\n",
       "dfs.DataNode$DataTransfer                                    6946\n",
       "dfs.DataNode$BlockReceiver                                   1718\n",
       "dfs.PendingReplicationBlocks$PendingReplicationMonitor         47\n",
       "Name: Component, dtype: int64"
      ]
     },
     "execution_count": 13,
     "metadata": {},
     "output_type": "execute_result"
    }
   ],
   "source": [
    "HDFS_parsed.Component.value_counts()"
   ]
  },
  {
   "cell_type": "code",
   "execution_count": 14,
   "id": "9c578f36-016c-4175-9b18-caba178b7d39",
   "metadata": {},
   "outputs": [
    {
     "data": {
      "text/plain": [
       "10.250.14.224:50010:Got exception while serving blk_-1347702416509823842 to /10.250.14.224:           15\n",
       "10.251.30.179:50010:Got exception while serving blk_2356980171746022239 to /10.251.30.179:            13\n",
       "10.251.215.192:50010:Got exception while serving blk_8512415457710305414 to /10.251.215.192:          13\n",
       "Deleting block blk_-1608999687919862906 file /mnt/hadoop/dfs/data/current/blk_-1608999687919862906    10\n",
       "10.251.194.213:50010:Got exception while serving blk_3584987098972940224 to /10.251.194.213:          10\n",
       "                                                                                                      ..\n",
       "PacketResponder 1 for block blk_-4367324059836143636 terminating                                       1\n",
       "PacketResponder 1 for block blk_8988509216114701029 terminating                                        1\n",
       "Receiving block blk_-6702683228653340719 src: /10.250.14.143:59022 dest: /10.250.14.143:50010          1\n",
       "PacketResponder 1 for block blk_-921773494081551734 terminating                                        1\n",
       "Verification succeeded for blk_4258862871822415442                                                     1\n",
       "Name: Content, Length: 10335015, dtype: int64"
      ]
     },
     "execution_count": 14,
     "metadata": {},
     "output_type": "execute_result"
    }
   ],
   "source": [
    "HDFS_parsed.Content.value_counts()"
   ]
  },
  {
   "cell_type": "code",
   "execution_count": 15,
   "id": "297d0f18-15d4-43ef-b1b7-13c6db9a5540",
   "metadata": {},
   "outputs": [
    {
     "data": {
      "text/plain": [
       "09a53393    1723232\n",
       "5d5de21c    1719741\n",
       "d38aa58d    1706728\n",
       "e3df2680    1706514\n",
       "dba996ef    1402047\n",
       "d63ef163    1396174\n",
       "3d91fa85     575061\n",
       "626085d5     428726\n",
       "81cee340     356207\n",
       "32777b38     120036\n",
       "d6b7b743       7097\n",
       "73c2ec69       6937\n",
       "40651754       6837\n",
       "728076ac       6837\n",
       "2e68ccc3       5545\n",
       "bcc910df       3226\n",
       "0567184d       1464\n",
       "8f2bc724       1288\n",
       "c294d20f        975\n",
       "75627efd        165\n",
       "54e5f6b4        165\n",
       "69bca6e5         75\n",
       "d013b7a3         75\n",
       "ace40671         67\n",
       "b15ffff8         65\n",
       "f266840a         56\n",
       "f79898ae         47\n",
       "461a1574         34\n",
       "2f85639c         33\n",
       "f0d1ff15         22\n",
       "506b3c4b         19\n",
       "124068c6         16\n",
       "71cf10b1         16\n",
       "234302e6         15\n",
       "e024fa48         11\n",
       "fcd37a6d         10\n",
       "78915d3a         10\n",
       "4610d0f1          9\n",
       "68429f34          9\n",
       "c61b491b          7\n",
       "2ecc047e          6\n",
       "ff00cd08          5\n",
       "5c88d71b          5\n",
       "06d16156          5\n",
       "13eb7010          4\n",
       "559305d8          3\n",
       "0f86472a          2\n",
       "b65fc512          1\n",
       "Name: EventId, dtype: int64"
      ]
     },
     "execution_count": 15,
     "metadata": {},
     "output_type": "execute_result"
    }
   ],
   "source": [
    "HDFS_parsed.EventId.value_counts()"
   ]
  },
  {
   "cell_type": "code",
   "execution_count": 16,
   "id": "2a41fa10-94ae-465d-b6bc-c43df147f2da",
   "metadata": {},
   "outputs": [
    {
     "data": {
      "text/plain": [
       "Receiving block <*> src: <*> dest: <*>                                                                                                                                                                               1723232\n",
       "BLOCK* NameSystem.addStoredBlock: blockMap updated: <*> is added to <*> size <*>                                                                                                                                     1719741\n",
       "PacketResponder <*> for block <*> <*>                                                                                                                                                                                1706728\n",
       "Received block <*> of size <*> from <*>                                                                                                                                                                              1706514\n",
       "Deleting block <*> file <*>                                                                                                                                                                                          1402047\n",
       "BLOCK* NameSystem.delete: <*> is added to invalidSet of <*>                                                                                                                                                          1396174\n",
       "BLOCK* NameSystem.allocateBlock: <*> <*>                                                                                                                                                                              575061\n",
       "<*> Served block <*> to <*>                                                                                                                                                                                           428726\n",
       "<*>Got exception while serving <*> to <*>                                                                                                                                                                             356207\n",
       "Verification succeeded for <*>                                                                                                                                                                                        120036\n",
       "Received block <*> src: <*> dest: <*> of size <*>                                                                                                                                                                       7097\n",
       "<*>Transmitted block <*> to <*>                                                                                                                                                                                         6937\n",
       "<*> Starting thread to transfer block <*> to <*>                                                                                                                                                                        6837\n",
       "BLOCK* ask <*> to replicate <*> to datanode(s) <*>                                                                                                                                                                      6837\n",
       "Unexpected error trying to delete block <*>. BlockInfo not found in volumeMap.                                                                                                                                          5545\n",
       "writeBlock <*> received exception java.io.IOException: Could not read from stream                                                                                                                                       3226\n",
       "Receiving empty packet for block <*>                                                                                                                                                                                    1464\n",
       "BLOCK* NameSystem.addStoredBlock: addStoredBlock request received for <*> on <*> size <*> But it does not belong to any file.                                                                                           1288\n",
       "BLOCK* NameSystem.addStoredBlock: Redundant addStoredBlock request received for <*> on <*> size <*>                                                                                                                      975\n",
       "<*> Starting thread to transfer block <*> to <*>, <*>                                                                                                                                                                    165\n",
       "BLOCK* ask <*> to replicate <*> to datanode(s) <*> <*>                                                                                                                                                                   165\n",
       "Exception in receiveBlock for block <*> java.io.IOException: Connection reset by peer                                                                                                                                     75\n",
       "writeBlock <*> received exception java.io.IOException: Connection reset by peer                                                                                                                                           75\n",
       "writeBlock <*> received exception <*>                                                                                                                                                                                     67\n",
       "Changing block file offset of block <*> from <*> to <*> meta file offset to <*>                                                                                                                                           65\n",
       "Exception in receiveBlock for block <*> <*>                                                                                                                                                                               56\n",
       "PendingReplicationMonitor timed out block <*>                                                                                                                                                                             47\n",
       "<*>Exception writing block <*> to mirror <*>                                                                                                                                                                              34\n",
       "PacketResponder <*> <*> Exception java.io.InterruptedIOException: Interruped while waiting for IO on channel java.nio.channels.SocketChannel[connected local=<*> remote=<*>]. <*> millis timeout left.                    33\n",
       "PacketResponder <*> <*> Exception java.net.SocketTimeoutException: <*> millis timeout while waiting for channel to be ready for read. ch : java.nio.channels.SocketChannel[connected local=<*> remote=<*>]                22\n",
       "PacketResponder <*> <*> Exception java.io.EOFException                                                                                                                                                                    19\n",
       "writeBlock <*> received exception java.io.IOException: <*> <*>                                                                                                                                                            16\n",
       "Exception in receiveBlock for block <*> java.io.InterruptedIOException: Interruped while waiting for IO on channel java.nio.channels.SocketChannel[connected local=<*> remote=<*>]. <*> millis timeout left.              16\n",
       "writeBlock <*> received exception java.net.SocketTimeoutException: <*> millis timeout while waiting for channel to be ready for <*> ch : java.nio.channels.SocketChannel[connected local=<*> remote=<*>]                  15\n",
       "PacketResponder <*> <*> Exception java.io.IOException: Connection reset by peer                                                                                                                                           11\n",
       "Adding an already existing block <*>                                                                                                                                                                                      10\n",
       "PacketResponder <*> <*> Exception java.nio.channels.ClosedByInterruptException                                                                                                                                            10\n",
       "writeBlock <*> received exception java.io.IOException: Block <*> is valid, and cannot be written to.                                                                                                                       9\n",
       "<*>Failed to transfer <*> to <*> got java.io.IOException: Connection reset by peer                                                                                                                                         9\n",
       "writeBlock <*> received exception java.io.InterruptedIOException: Interruped while waiting for IO on channel java.nio.channels.SocketChannel[connected local=<*> remote=<*>]. <*> millis timeout left.                     7\n",
       "PacketResponder <*> <*> Exception java.io.IOException: Broken pipe                                                                                                                                                         6\n",
       "PacketResponder <*> <*> Exception java.io.InterruptedIOException: Interruped while waiting for IO on channel java.nio.channels.SocketChannel[closed]. <*> millis timeout left.                                             5\n",
       "Exception in receiveBlock for block <*> java.net.SocketTimeoutException: <*> millis timeout while waiting for channel to be ready for write. ch : java.nio.channels.SocketChannel[connected local=<*> remote=<*>]          5\n",
       "Reopen Block <*>                                                                                                                                                                                                           5\n",
       "BLOCK* Removing block <*> from neededReplications as it does not belong to any file.                                                                                                                                       4\n",
       "Exception in receiveBlock for block <*> java.io.IOException: Broken pipe                                                                                                                                                   3\n",
       "PacketResponder <*> <*> Exception java.io.IOException: The stream is closed                                                                                                                                                2\n",
       "writeBlock <*> received exception java.net.NoRouteToHostException: No route to host                                                                                                                                        1\n",
       "Name: EventTemplate, dtype: int64"
      ]
     },
     "execution_count": 16,
     "metadata": {},
     "output_type": "execute_result"
    }
   ],
   "source": [
    "HDFS_parsed.EventTemplate.value_counts()"
   ]
  },
  {
   "cell_type": "code",
   "execution_count": 17,
   "id": "226cd435-8a64-4ebb-90b9-9efbf642792e",
   "metadata": {},
   "outputs": [
    {
     "data": {
      "text/plain": [
       "['10.250.14.224:50010:', 'blk_-1347702416509823842', '/10.250.14.224:']                  15\n",
       "['10.251.30.179:50010:', 'blk_2356980171746022239', '/10.251.30.179:']                   13\n",
       "['10.251.215.192:50010:', 'blk_8512415457710305414', '/10.251.215.192:']                 13\n",
       "['10.251.194.213:50010:', 'blk_3584987098972940224', '/10.251.194.213:']                 10\n",
       "['blk_-1608999687919862906', '/mnt/hadoop/dfs/data/current/blk_-1608999687919862906']    10\n",
       "                                                                                         ..\n",
       "['blk_8527025923233783401', '/10.251.43.192:50766', '/10.251.43.192:50010']               1\n",
       "['blk_988213790039510915', '/10.251.214.175:44669', '/10.251.214.175:50010']              1\n",
       "['blk_-6881586002618630781', '/10.251.122.38:34497', '/10.251.122.38:50010']              1\n",
       "['0', 'blk_-3250042454408216110 terminating']                                             1\n",
       "['blk_4258862871822415442']                                                               1\n",
       "Name: ParameterList, Length: 10327337, dtype: int64"
      ]
     },
     "execution_count": 17,
     "metadata": {},
     "output_type": "execute_result"
    }
   ],
   "source": [
    "HDFS_parsed.ParameterList.value_counts()"
   ]
  },
  {
   "cell_type": "markdown",
   "id": "9e32098c-555c-468f-89e2-c3b25bf72bc9",
   "metadata": {},
   "source": [
    "### 4. Initial Thoughts"
   ]
  },
  {
   "cell_type": "markdown",
   "id": "b22ef8ef-f611-46cd-9ffd-5f987fda55a4",
   "metadata": {},
   "source": [
    "- The logs are produced from `2008-11-11` (47.98%), `2008-11-10` (44.15%), `2008-11-09` (7.86%).\n",
    "- The top 5 times that the logs are produced are on `07:56:22`, `11:04:39`, `07:56:35`, `11:04:30`, and `04:03:22` on each day.\n",
    "- The top 5 Process ID that generated the most logs are: `19`, `28`, `27`, `26`, `30`. The top 5 Process ID that generated the least number of logs are: `27861`, `27863`, `115`, `27865`, and `27867`. This would be interesting to investigate further.\n",
    "- In general, the logs consist of 96.75% `INFO` and 3.25% `WARN`.\n",
    "- The component with the most lines of logs is `dfs.FSNamesystem` and the component with the least lines of logs is `dfs.PendingReplicationBlocks$PendingReplicationMonitor`\n",
    "- The top 3 event ID with the most lines of code are `09a53393`, `5d5de21c`, and `d38aa58d`. The top 3 event id with the least lines of code are `b65fc512`, `0f86472a`, `559305d8`.\n",
    "- The template with that produce the most logs is `Receiving block <*> src: <*> dest: <*>` and the least logs is `writeBlock <*> received exception java.net.NoRouteToHostException: No route to host`."
   ]
  },
  {
   "cell_type": "markdown",
   "id": "f7a0c245-9b11-4f14-925f-dd48319d9228",
   "metadata": {},
   "source": [
    "### 5. Wrangling"
   ]
  },
  {
   "cell_type": "code",
   "execution_count": 18,
   "id": "59177eb7-19e7-4592-b832-1518a890dd14",
   "metadata": {},
   "outputs": [],
   "source": [
    "# For date\n",
    "HDFS_parsed['Year']=\"0\"+HDFS_parsed['Date'].astype(str).str[:1]\n",
    "HDFS_parsed['Month']=HDFS_parsed['Date'].astype(str).str[1:3]\n",
    "HDFS_parsed['Day']=HDFS_parsed['Date'].astype(str).str[3:5]\n",
    "# For time\n",
    "HDFS_parsed['Time_length']  = HDFS_parsed['Time'].astype(str).str.len()\n",
    "HDFS_parsed.loc[HDFS_parsed['Time_length'] == 6, 'Hour'] = HDFS_parsed['Time'].astype(str).str[:2]\n",
    "HDFS_parsed.loc[HDFS_parsed['Time_length'] == 6, 'Minute'] = HDFS_parsed['Time'].astype(str).str[2:4]\n",
    "HDFS_parsed.loc[HDFS_parsed['Time_length'] == 6, 'Second'] = HDFS_parsed['Time'].astype(str).str[4:6]\n",
    "HDFS_parsed.loc[HDFS_parsed['Time_length'] == 5, 'Hour'] = HDFS_parsed['Time'].astype(str).str[:1]\n",
    "HDFS_parsed.loc[HDFS_parsed['Time_length'] == 5, 'Minute'] = HDFS_parsed['Time'].astype(str).str[1:3]\n",
    "HDFS_parsed.loc[HDFS_parsed['Time_length'] == 5, 'Second'] = HDFS_parsed['Time'].astype(str).str[3:5]\n",
    "HDFS_parsed.drop('Time_length', axis=1, inplace=True)"
   ]
  },
  {
   "cell_type": "markdown",
   "id": "7e9b2c4f-67ba-48ea-a2fb-1b3419067388",
   "metadata": {},
   "source": [
    "### 6. Research Questions"
   ]
  },
  {
   "cell_type": "markdown",
   "id": "ca75a2a6-119d-4367-ac1b-333e63ce29f6",
   "metadata": {},
   "source": [
    "- How do different types of parser from logparser library compare with each other, in terms of its parsing accuracy?\n",
    "- What is the accuracy of using CNN to predict anomaly on structured/parsed log data?\n",
    "- How does the CNN model created based on the HDFS_1 dataset perform on other log dataset?"
   ]
  },
  {
   "cell_type": "markdown",
   "id": "a60c2d1b-8783-469a-a4ce-70eea9b76ff4",
   "metadata": {},
   "source": [
    "### 7. Data Analysis and Visualization"
   ]
  },
  {
   "cell_type": "markdown",
   "id": "ed66a665-2637-4afa-b8c1-3bcefe7f83d6",
   "metadata": {},
   "source": [
    "#### Level distribution of the log data"
   ]
  },
  {
   "cell_type": "code",
   "execution_count": 19,
   "id": "886c22b4-172d-4209-8f79-c013e9db667e",
   "metadata": {},
   "outputs": [
    {
     "data": {
      "text/plain": [
       "INFO    10812836\n",
       "WARN      362793\n",
       "Name: Level, dtype: int64"
      ]
     },
     "execution_count": 19,
     "metadata": {},
     "output_type": "execute_result"
    }
   ],
   "source": [
    "Level_count = HDFS_parsed['Level'].value_counts()\n",
    "Level_count"
   ]
  },
  {
   "cell_type": "code",
   "execution_count": 20,
   "id": "32baa397-2139-4b67-b2f2-0ef0e9b3cc41",
   "metadata": {},
   "outputs": [
    {
     "data": {
      "text/plain": [
       "Text(0.5, 1.0, 'Distribution of Level of HDFS log data')"
      ]
     },
     "execution_count": 20,
     "metadata": {},
     "output_type": "execute_result"
    },
    {
     "data": {
      "image/png": "[encoded data removed]",
      "text/plain": [
       "<Figure size 432x288 with 1 Axes>"
      ]
     },
     "metadata": {},
     "output_type": "display_data"
    }
   ],
   "source": [
    "ax = Level_count.plot(kind='pie')\n",
    "ax.set_title(\"Distribution of Level of HDFS log data\")"
   ]
  },
  {
   "cell_type": "markdown",
   "id": "7945e3f6-f252-43f8-bccc-6a0f0430bd19",
   "metadata": {},
   "source": [
    "#### Pid distribution of the log data"
   ]
  },
  {
   "cell_type": "code",
   "execution_count": 21,
   "id": "69d67256-a0d0-4a66-bbc9-f6f49208b516",
   "metadata": {},
   "outputs": [
    {
     "data": {
      "text/plain": [
       "19       1288017\n",
       "28        539758\n",
       "27        444086\n",
       "26        441387\n",
       "30        437971\n",
       "          ...   \n",
       "27861          1\n",
       "27863          1\n",
       "115            1\n",
       "27865          1\n",
       "27867          1\n",
       "Name: Pid, Length: 27799, dtype: int64"
      ]
     },
     "execution_count": 21,
     "metadata": {},
     "output_type": "execute_result"
    }
   ],
   "source": [
    "Pid_count = HDFS_parsed['Pid'].value_counts()\n",
    "Pid_count"
   ]
  },
  {
   "cell_type": "code",
   "execution_count": 22,
   "id": "f1abae48-7c26-47b1-ba00-d786f98727dc",
   "metadata": {},
   "outputs": [
    {
     "data": {
      "text/plain": [
       "Text(0.5, 1.0, 'Top 10 Pid appeared in HDFS log data')"
      ]
     },
     "execution_count": 22,
     "metadata": {},
     "output_type": "execute_result"
    },
    {
     "data": {
      "image/png": "[encoded data removed]",
      "text/plain": [
       "<Figure size 432x288 with 1 Axes>"
      ]
     },
     "metadata": {
      "needs_background": "light"
     },
     "output_type": "display_data"
    }
   ],
   "source": [
    "Pid_count[:10].plot(kind='barh')\n",
    "plt.xlabel('Count of Pid')\n",
    "plt.title(\"Top 10 Pid appeared in HDFS log data\")"
   ]
  },
  {
   "cell_type": "markdown",
   "id": "a5375c73-5da7-479b-beb9-36f198b752be",
   "metadata": {},
   "source": [
    "#### Component distribution of the log data"
   ]
  },
  {
   "cell_type": "code",
   "execution_count": 23,
   "id": "59682df5-5f00-4bd2-aaad-648446a006d1",
   "metadata": {},
   "outputs": [
    {
     "data": {
      "text/plain": [
       "dfs.FSNamesystem                                          3700245\n",
       "dfs.DataNode$PacketResponder                              3413350\n",
       "dfs.DataNode$DataXceiver                                  2518678\n",
       "dfs.FSDataset                                             1407597\n",
       "dfs.DataBlockScanner                                       120046\n",
       "dfs.DataNode                                                 7002\n",
       "dfs.DataNode$DataTransfer                                    6946\n",
       "dfs.DataNode$BlockReceiver                                   1718\n",
       "dfs.PendingReplicationBlocks$PendingReplicationMonitor         47\n",
       "Name: Component, dtype: int64"
      ]
     },
     "execution_count": 23,
     "metadata": {},
     "output_type": "execute_result"
    }
   ],
   "source": [
    "Component_count = HDFS_parsed['Component'].value_counts()\n",
    "Component_count"
   ]
  },
  {
   "cell_type": "code",
   "execution_count": 24,
   "id": "5bb039ff-b694-48d8-8831-9237b045f834",
   "metadata": {
    "tags": []
   },
   "outputs": [
    {
     "data": {
      "text/plain": [
       "Text(0.5, 1.0, 'Distribution of Components of HDFS log data')"
      ]
     },
     "execution_count": 24,
     "metadata": {},
     "output_type": "execute_result"
    },
    {
     "data": {
      "image/png": "[encoded data removed]",
      "text/plain": [
       "<Figure size 432x288 with 1 Axes>"
      ]
     },
     "metadata": {
      "needs_background": "light"
     },
     "output_type": "display_data"
    }
   ],
   "source": [
    "Component_count.plot(kind='barh')\n",
    "plt.xlabel('Count of Components')\n",
    "plt.title(\"Distribution of Components of HDFS log data\")"
   ]
  },
  {
   "cell_type": "markdown",
   "id": "6f93e078-0d8f-49ef-a90e-c54a0266cee9",
   "metadata": {
    "tags": []
   },
   "source": [
    "#### Time distribution of the log data"
   ]
  },
  {
   "cell_type": "code",
   "execution_count": 25,
   "id": "5f172dc1-4ab3-45ee-bc76-a882a7c5fd0d",
   "metadata": {},
   "outputs": [
    {
     "data": {
      "text/plain": [
       "11    5362174\n",
       "10    4934076\n",
       "09     879379\n",
       "Name: Day, dtype: int64"
      ]
     },
     "execution_count": 25,
     "metadata": {},
     "output_type": "execute_result"
    }
   ],
   "source": [
    "Day_count = HDFS_parsed['Day'].value_counts()\n",
    "Day_count"
   ]
  },
  {
   "cell_type": "code",
   "execution_count": 26,
   "id": "bddf9f68-28e1-4b46-b505-594002ab042f",
   "metadata": {},
   "outputs": [
    {
     "data": {
      "text/plain": [
       "Text(0.5, 1.0, 'Distribution of Day of HDFS log data')"
      ]
     },
     "execution_count": 26,
     "metadata": {},
     "output_type": "execute_result"
    },
    {
     "data": {
      "image/png": "[encoded data removed]",
      "text/plain": [
       "<Figure size 432x288 with 1 Axes>"
      ]
     },
     "metadata": {},
     "output_type": "display_data"
    }
   ],
   "source": [
    "ax = Day_count.plot(kind='pie')\n",
    "ax.set_title(\"Distribution of Day of HDFS log data\")"
   ]
  },
  {
   "cell_type": "code",
   "execution_count": 27,
   "id": "25792f27-604a-4fba-a6f1-8344c9d6081e",
   "metadata": {},
   "outputs": [
    {
     "data": {
      "text/plain": [
       "Text(0.5, 1.0, 'Distribution of Hour of HDFS log data')"
      ]
     },
     "execution_count": 27,
     "metadata": {},
     "output_type": "execute_result"
    },
    {
     "data": {
      "image/png": "[encoded data removed]",
      "text/plain": [
       "<Figure size 432x288 with 1 Axes>"
      ]
     },
     "metadata": {
      "needs_background": "light"
     },
     "output_type": "display_data"
    }
   ],
   "source": [
    "Hour_count = HDFS_parsed['Hour'].value_counts()\n",
    "Hour_count.plot(kind='barh')\n",
    "plt.xlabel('Count')\n",
    "plt.title(\"Distribution of Hour of HDFS log data\")"
   ]
  },
  {
   "cell_type": "markdown",
   "id": "cacd7bc1-349c-40a1-842d-cc7d4b69b59c",
   "metadata": {},
   "source": [
    "### 8. Summary and Conclusions"
   ]
  },
  {
   "cell_type": "markdown",
   "id": "f4bca6d2-5f15-40fd-9681-81e520cb5dc2",
   "metadata": {},
   "source": [
    "Since EDA is just an initial step to explore the data, some of the research questions in section 6 may not be answerable until we finished building and comparing the methods and models. \n",
    "\n",
    "However, based on our initial EDA, we've learned that:\n",
    "\n",
    "- The parsed log data based on our chosen parser method is relatively clean and there is no missing values.\n",
    "- During these time of the day `07:56:22`, `11:04:39`, `07:56:35`, `11:04:30`, and `04:03:22`, the logs produced are higher than any other time during the day. \n",
    "- The top `ProcessId`, `EventId`, `Component`, and `EventTemplate` that generated the most and least number of logs would be of interest for future exploration as that might lead to discovering an anomaly in the logs. "
   ]
  },
  {
   "cell_type": "markdown",
   "id": "e4b508d8-b306-48db-b6c9-866817a8d911",
   "metadata": {},
   "source": [
    "### 9. Project Proposal Plan"
   ]
  },
  {
   "cell_type": "markdown",
   "id": "e7c2da58-5715-42eb-b9d0-e4ef803e121c",
   "metadata": {},
   "source": [
    "1. **Data**: Download the `HDFS_1` logs data from Loghub (https://github.com/logpai/loghub).\n",
    "2. **Log-parsing**: Parse the unstructured logs data using `Drain` from the `Logparser` library (https://github.com/logpai/logparser).\n",
    "3. **Feature Extraction**: Pre-process the structured logs data using `TF-IDF` (Term Frequency-Inverse Document Frequency) so that it is suitable for input to the model. This step will produce a feature matrix for input into the next step.\n",
    "4. **Model**: Predict or detect anomaly logs using supervised method, `CNN` (Convolutional Neural Network) model.\n",
    "5. **Accuracy**: Calculate the accuracy of the prediction by comparing the result with the existing anomaly/normal labels for the logs."
   ]
  }
 ],
 "metadata": {
  "kernelspec": {
   "display_name": "Python 3 (ipykernel)",
   "language": "python",
   "name": "python3"
  },
  "language_info": {
   "codemirror_mode": {
    "name": "ipython",
    "version": 3
   },
   "file_extension": ".py",
   "mimetype": "text/x-python",
   "name": "python",
   "nbconvert_exporter": "python",
   "pygments_lexer": "ipython3",
   "version": "3.9.5"
  }
 },
 "nbformat": 4,
 "nbformat_minor": 5
}
